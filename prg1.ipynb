{
 "cells": [
  {
   "cell_type": "markdown",
   "metadata": {},
   "source": [
    "# Python Basics and first program\n",
    "\n",
    "-Deepak Kumar Gupta\n",
    " 1NT18IS050"
   ]
  },
  {
   "cell_type": "code",
   "execution_count": 1,
   "metadata": {},
   "outputs": [
    {
     "name": "stdout",
     "output_type": "stream",
     "text": [
      "[1, 2, 3, 4]\n",
      "[1, 2, 3]\n"
     ]
    }
   ],
   "source": [
    "l = list()\n",
    "l = []\n",
    "l.append(1)\n",
    "l.extend([2,3,4])\n",
    "print(l)\n",
    "l.remove(4)\n",
    "print(l)"
   ]
  },
  {
   "cell_type": "code",
   "execution_count": 2,
   "metadata": {},
   "outputs": [
    {
     "name": "stdout",
     "output_type": "stream",
     "text": [
      "(1, 1, 2, 3, 4)\n",
      "2\n",
      "2\n"
     ]
    }
   ],
   "source": [
    "t = tuple()\n",
    "t = ()\n",
    "t = (1,1,2,3,4)\n",
    "print(t)\n",
    "print(t.count(1))\n",
    "print(t.index(2))"
   ]
  },
  {
   "cell_type": "code",
   "execution_count": 3,
   "metadata": {},
   "outputs": [
    {
     "name": "stdout",
     "output_type": "stream",
     "text": [
      "dict_values(['apple', 'ball', 'cat', 'dog'])\n",
      "dict_keys(['a', 'b', 'c', 'd'])\n"
     ]
    },
    {
     "data": {
      "text/plain": [
       "'apple'"
      ]
     },
     "execution_count": 3,
     "metadata": {},
     "output_type": "execute_result"
    }
   ],
   "source": [
    "d = dict()\n",
    "d = {}\n",
    "d['a'] = 'apple'\n",
    "d['b'] = 'ball'\n",
    "d['c'] = 'cat'\n",
    "d['d'] = 'dog'\n",
    "print(d.values())\n",
    "print(d.keys())\n",
    "d.get('a')\n"
   ]
  },
  {
   "cell_type": "code",
   "execution_count": 15,
   "metadata": {},
   "outputs": [],
   "source": [
    "l = [115.3,195.5,120.5,110.2,90.4,105.6,110.9,116.3,122.3,125.4,90.4]"
   ]
  },
  {
   "cell_type": "code",
   "execution_count": 16,
   "metadata": {},
   "outputs": [],
   "source": [
    "def bsort(l):\n",
    "    for i in range(0, len(l)):\n",
    "        for j in range(i+1, len(l)):\n",
    "            if l[i] > l[j]:\n",
    "                temp = l[i]\n",
    "                l[i] = l[j]\n",
    "                l[j] = temp"
   ]
  },
  {
   "cell_type": "code",
   "execution_count": 27,
   "metadata": {},
   "outputs": [
    {
     "name": "stdout",
     "output_type": "stream",
     "text": [
      "THE LIST IS : [4, 5, 6, 7, 9, 12, 34, 56]\n"
     ]
    }
   ],
   "source": [
    "print('THE LIST IS :',l)"
   ]
  },
  {
   "cell_type": "code",
   "execution_count": 28,
   "metadata": {},
   "outputs": [
    {
     "name": "stdout",
     "output_type": "stream",
     "text": [
      "LIST AFTER SORTING :  [4, 5, 6, 7, 9, 12, 34, 56]\n"
     ]
    }
   ],
   "source": [
    "bsort(l)\n",
    "print('LIST AFTER SORTING : ',l)"
   ]
  },
  {
   "cell_type": "code",
   "execution_count": 19,
   "metadata": {},
   "outputs": [],
   "source": [
    "import math\n",
    "\n",
    "def mean(l):\n",
    "    sum = 0\n",
    "    for i in l:\n",
    "        sum += i\n",
    "    return sum / len(l)\n",
    "\n",
    "def variance(l):\n",
    "    mn = mean(l)\n",
    "    sum = 0\n",
    "    for i in l:\n",
    "        tmp = (i - mn)*(i - mn)\n",
    "        sum += tmp\n",
    "    sum = sum / len(l)\n",
    "    return sum\n",
    "\n",
    "def std(l):\n",
    "    mn = mean(l)\n",
    "    nl = []\n",
    "    sum = 0\n",
    "    for i in l:\n",
    "        tmp = (i - mn)*(i - mn)\n",
    "        nl.append(tmp)\n",
    "        sum += tmp\n",
    "    sum = math.sqrt(sum/len(l))\n",
    "    return sum"
   ]
  },
  {
   "cell_type": "code",
   "execution_count": 29,
   "metadata": {},
   "outputs": [
    {
     "name": "stdout",
     "output_type": "stream",
     "text": [
      "THE DATASET :  [4, 5, 6, 7, 9, 12, 34, 56]\n",
      "MEAN :  16.625\n",
      "STANDARD DEVITAION 17.435147690799756\n"
     ]
    }
   ],
   "source": [
    "# mean = sum(l)/len(l)\n",
    "# print(mean)\n",
    "print('THE DATASET : ',l)\n",
    "print('MEAN : ',mean(l))\n",
    "print('STANDARD DEVITAION',std(l))"
   ]
  },
  {
   "cell_type": "code",
   "execution_count": 30,
   "metadata": {},
   "outputs": [
    {
     "name": "stdout",
     "output_type": "stream",
     "text": [
      "MEDIAN :  9\n"
     ]
    }
   ],
   "source": [
    "median = 0\n",
    "bsort(l)\n",
    "# print(l)\n",
    "median = l[len(l)//2]\n",
    "print('MEDIAN : ',median)"
   ]
  },
  {
   "cell_type": "code",
   "execution_count": 31,
   "metadata": {},
   "outputs": [
    {
     "name": "stdout",
     "output_type": "stream",
     "text": [
      "[1, 1, 1, 1, 2, 1, 1, 1, 1, 1]\n",
      "[115.3, 195.5, 120.5, 110.2, 90.4, 105.6, 110.9, 116.3, 122.3, 125.4]\n",
      "MODE :  90.4\n"
     ]
    }
   ],
   "source": [
    "l = [115.3,195.5,120.5,110.2,90.4,105.6,110.9,116.3,122.3,125.4,90.4]\n",
    "dl = {}\n",
    "for i in l:\n",
    "    dl[i] = 0\n",
    "for i in l:\n",
    "    dl[i] += 1\n",
    "\n",
    "v = list(dl.values())\n",
    "k = list(dl.keys())\n",
    "print(v)\n",
    "print(k)\n",
    "mode = k[v.index(max(v))]\n",
    "print('MODE : ',mode)"
   ]
  },
  {
   "cell_type": "code",
   "execution_count": 23,
   "metadata": {},
   "outputs": [
    {
     "name": "stdout",
     "output_type": "stream",
     "text": [
      "303.984375\n",
      "17.435147690799756\n"
     ]
    }
   ],
   "source": [
    "import statistics as st\n",
    "l = [6,7,4,5,9,12,34,56]\n",
    "# var = st.variance(l)\n",
    "# sd = st.stdev(l)\n",
    "var = variance(l)\n",
    "sd = std(l)\n",
    "print('VARIANCE : ',var)\n",
    "print(sd)"
   ]
  },
  {
   "cell_type": "code",
   "execution_count": 24,
   "metadata": {},
   "outputs": [],
   "source": [
    "def normalise(l):\n",
    "    nl = []\n",
    "    minel = min(l)\n",
    "    maxel = max(l)\n",
    "    for i in l:\n",
    "        nl.append(round((i - minel)/(maxel - minel),3))\n",
    "    return nl\n",
    "\n",
    "def standardise(l):\n",
    "    nl = []\n",
    "    mean = st.mean(l)\n",
    "    std = st.stdev(l)\n",
    "    for i in l:\n",
    "        nl.append(round((i - mean)/std, 3))\n",
    "    return nl"
   ]
  },
  {
   "cell_type": "code",
   "execution_count": 33,
   "metadata": {},
   "outputs": [
    {
     "name": "stdout",
     "output_type": "stream",
     "text": [
      "[90.4, 90.4, 105.6, 110.2, 110.9, 115.3, 116.3, 120.5, 122.3, 125.4, 195.5]\n",
      "NORMALIZED DATA   :  [0.0, 0.0, 0.145, 0.188, 0.195, 0.237, 0.246, 0.286, 0.304, 0.333, 1.0]\n",
      "STANDARDIZED DATA :  [-0.999, -0.999, -0.457, -0.293, -0.268, -0.112, -0.076, 0.074, 0.138, 0.248, 2.745]\n"
     ]
    }
   ],
   "source": [
    "l.sort()\n",
    "print(l)\n",
    "print('NORMALIZED DATA   : ',normalise(l))\n",
    "print('STANDARDIZED DATA : ',standardise(l))"
   ]
  },
  {
   "cell_type": "code",
   "execution_count": null,
   "metadata": {},
   "outputs": [],
   "source": []
  }
 ],
 "metadata": {
  "interpreter": {
   "hash": "40ba3dbd2e31b17c5fa82559588dde750c548887c125cfef57d9592e32260564"
  },
  "kernelspec": {
   "display_name": "Python 3",
   "language": "python",
   "name": "python3"
  },
  "language_info": {
   "codemirror_mode": {
    "name": "ipython",
    "version": 3
   },
   "file_extension": ".py",
   "mimetype": "text/x-python",
   "name": "python",
   "nbconvert_exporter": "python",
   "pygments_lexer": "ipython3",
   "version": "3.6.9"
  }
 },
 "nbformat": 4,
 "nbformat_minor": 4
}
